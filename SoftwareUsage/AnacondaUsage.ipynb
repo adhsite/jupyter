{
 "cells": [
  {
   "cell_type": "code",
   "execution_count": null,
   "metadata": {},
   "outputs": [],
   "source": [
    "# Anaconda用法\n",
    "# Anaconda下载地址：https://www.anaconda.com/download/\n",
    "# Miniconda下载地址：https://docs.conda.io/en/latest/miniconda.html\n",
    "# 清华大学的conda源：https://mirrors.tuna.tsinghua.edu.cn/help/anaconda/"
   ]
  },
  {
   "cell_type": "code",
   "execution_count": null,
   "metadata": {},
   "outputs": [],
   "source": [
    "# windows下创建conda配置文件,linux下会自动创建无需手动创建\n",
    "conda config --set show_channel_urls yes"
   ]
  },
  {
   "cell_type": "code",
   "execution_count": null,
   "metadata": {},
   "outputs": [],
   "source": [
    "# 清除索引缓存\n",
    "conda clean -i"
   ]
  },
  {
   "cell_type": "code",
   "execution_count": null,
   "metadata": {},
   "outputs": [],
   "source": [
    "# 创建一个名为envname的虚拟环境，并安装python=3.6\n",
    "conda create --name envname python=3.6"
   ]
  },
  {
   "cell_type": "code",
   "execution_count": null,
   "metadata": {},
   "outputs": [],
   "source": [
    "# 取消自动激活conda环境\n",
    "conda config --set auto_activate_base false"
   ]
  },
  {
   "cell_type": "code",
   "execution_count": null,
   "metadata": {},
   "outputs": [],
   "source": [
    "# 在conda环境中安装包，虚拟环境名称可以不用指定\n",
    "conda install --name envname package1 package2"
   ]
  },
  {
   "cell_type": "code",
   "execution_count": null,
   "metadata": {},
   "outputs": [],
   "source": [
    "# 在conda环境中卸载包，remove和uninstall效果一样\n",
    "conda remove --name envname package1 package2"
   ]
  },
  {
   "cell_type": "code",
   "execution_count": null,
   "metadata": {},
   "outputs": [],
   "source": [
    "# 查询conda包，可以不输入完整的包名\n",
    "conda search packagename\n",
    "\n",
    "# 查询指定conda包的可用版本\n",
    "conda search packagename=="
   ]
  },
  {
   "cell_type": "code",
   "execution_count": null,
   "metadata": {},
   "outputs": [],
   "source": [
    "# 列出conda包\n",
    "conda list"
   ]
  },
  {
   "cell_type": "code",
   "execution_count": null,
   "metadata": {},
   "outputs": [],
   "source": [
    "# 更新conda包\n",
    "conda update --name envname package1 package2"
   ]
  }
 ],
 "metadata": {
  "language_info": {
   "name": "python"
  },
  "orig_nbformat": 4
 },
 "nbformat": 4,
 "nbformat_minor": 2
}
