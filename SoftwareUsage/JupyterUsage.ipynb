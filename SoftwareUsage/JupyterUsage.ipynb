{
 "cells": [
  {
   "cell_type": "code",
   "execution_count": null,
   "id": "be8cc818",
   "metadata": {
    "vscode": {
     "languageId": "shellscript"
    }
   },
   "outputs": [],
   "source": [
    "# jupyter的各种使用方法\n",
    "# jupyterlab是jupyter notebook的升级版，更加强大"
   ]
  },
  {
   "cell_type": "code",
   "execution_count": null,
   "id": "fe9c69ee-f28b-48b9-9cf6-48bb02fc9e79",
   "metadata": {},
   "outputs": [],
   "source": [
    "# 安装jupyterlab\n",
    "pip3 install jupyterlab  "
   ]
  },
  {
   "cell_type": "code",
   "execution_count": null,
   "id": "1819e0bb",
   "metadata": {
    "vscode": {
     "languageId": "shellscript"
    }
   },
   "outputs": [],
   "source": [
    "# 升级jupyter\n",
    "pip install -U jupyter"
   ]
  },
  {
   "cell_type": "code",
   "execution_count": null,
   "id": "c115e2d8-b40d-4506-bdc3-0a6a893909cd",
   "metadata": {},
   "outputs": [],
   "source": [
    "# 安装jupyterlab中文语言包\n",
    "pip3 install jupyterlab-language-pack-zh-CN"
   ]
  },
  {
   "cell_type": "code",
   "execution_count": null,
   "id": "f9bb2de2-c46e-4456-87f3-c6d53c1c4d62",
   "metadata": {},
   "outputs": [],
   "source": [
    "# jupyter内核列表网址\n",
    "'https://github.com/jupyter/jupyter/wiki/Jupyter-kernels'\n",
    "\n",
    "# 安装bash内核，用于支持bash命令行\n",
    "pip3 install bash_kernel\n",
    "python3 -m bash_kernel.install"
   ]
  },
  {
   "cell_type": "code",
   "execution_count": null,
   "id": "9ac3efe4-257b-4fcc-a6b1-c7bd18aa9405",
   "metadata": {},
   "outputs": [],
   "source": [
    "# 启动jupyterlab\n",
    "jupyter-lab \\\n",
    "\n",
    "# jupyter常用的启动参数\n",
    "--ip=192.168.0.1 \\ #指定jupyter运行的ip，在云服务器运行需指定内网ip，否则无法打开jupyter\n",
    "--port 9999 \\ #指定jupyter的端口，默认为8888，可以同时运行多个jupyter使用不同的端口即可\n",
    "--allow-root \\ #允许root用户运行jupyter服务器\n",
    "--no-browser \\ #不在浏览器打开jupyter\n",
    "--autoreload \\ #自动加载网络应用和导入的python包\n",
    "--generate-config \\ #生成默认配置文件\n",
    "--notebooke-dir=/var \\ #指定笔记本和内核启动目录，默认为当前目录\n"
   ]
  },
  {
   "cell_type": "code",
   "execution_count": null,
   "id": "a557d36b-1c00-4492-9f2e-55f455f423aa",
   "metadata": {},
   "outputs": [],
   "source": [
    "# 显示所有运行中的jupyter和对应token及目录\n",
    "jupyter server list"
   ]
  },
  {
   "cell_type": "markdown",
   "id": "e91dadbc",
   "metadata": {},
   "source": [
    "### jupyter的高级用法\n",
    "###### Magic命令：可以运行一些特殊的命令Magic 命令的前面带有一个%或两个%，一个%代表行 Magic 命令，两个%代表单元格 Magic 命令。行 Magic 命令仅应用于编写 Magic 命令时所在的行，而单元格 Magic 命令应用于整个单元格。"
   ]
  },
  {
   "cell_type": "code",
   "execution_count": 3,
   "id": "8910b7c5",
   "metadata": {},
   "outputs": [
    {
     "data": {
      "application/json": {
       "cell": {
        "!": "OSMagics",
        "HTML": "Other",
        "SVG": "Other",
        "bash": "Other",
        "capture": "ExecutionMagics",
        "cmd": "Other",
        "debug": "ExecutionMagics",
        "file": "Other",
        "html": "DisplayMagics",
        "javascript": "DisplayMagics",
        "js": "DisplayMagics",
        "latex": "DisplayMagics",
        "markdown": "DisplayMagics",
        "perl": "Other",
        "prun": "ExecutionMagics",
        "pypy": "Other",
        "python": "Other",
        "python2": "Other",
        "python3": "Other",
        "ruby": "Other",
        "script": "ScriptMagics",
        "sh": "Other",
        "svg": "DisplayMagics",
        "sx": "OSMagics",
        "system": "OSMagics",
        "time": "ExecutionMagics",
        "timeit": "ExecutionMagics",
        "writefile": "OSMagics"
       },
       "line": {
        "alias": "OSMagics",
        "alias_magic": "BasicMagics",
        "autoawait": "AsyncMagics",
        "autocall": "AutoMagics",
        "automagic": "AutoMagics",
        "autosave": "KernelMagics",
        "bookmark": "OSMagics",
        "cd": "OSMagics",
        "clear": "KernelMagics",
        "cls": "KernelMagics",
        "colors": "BasicMagics",
        "conda": "PackagingMagics",
        "config": "ConfigMagics",
        "connect_info": "KernelMagics",
        "copy": "Other",
        "ddir": "Other",
        "debug": "ExecutionMagics",
        "dhist": "OSMagics",
        "dirs": "OSMagics",
        "doctest_mode": "BasicMagics",
        "echo": "Other",
        "ed": "Other",
        "edit": "KernelMagics",
        "env": "OSMagics",
        "gui": "BasicMagics",
        "hist": "Other",
        "history": "HistoryMagics",
        "killbgscripts": "ScriptMagics",
        "ldir": "Other",
        "less": "KernelMagics",
        "load": "CodeMagics",
        "load_ext": "ExtensionMagics",
        "loadpy": "CodeMagics",
        "logoff": "LoggingMagics",
        "logon": "LoggingMagics",
        "logstart": "LoggingMagics",
        "logstate": "LoggingMagics",
        "logstop": "LoggingMagics",
        "ls": "Other",
        "lsmagic": "BasicMagics",
        "macro": "ExecutionMagics",
        "magic": "BasicMagics",
        "matplotlib": "PylabMagics",
        "mkdir": "Other",
        "more": "KernelMagics",
        "notebook": "BasicMagics",
        "page": "BasicMagics",
        "pastebin": "CodeMagics",
        "pdb": "ExecutionMagics",
        "pdef": "NamespaceMagics",
        "pdoc": "NamespaceMagics",
        "pfile": "NamespaceMagics",
        "pinfo": "NamespaceMagics",
        "pinfo2": "NamespaceMagics",
        "pip": "PackagingMagics",
        "popd": "OSMagics",
        "pprint": "BasicMagics",
        "precision": "BasicMagics",
        "prun": "ExecutionMagics",
        "psearch": "NamespaceMagics",
        "psource": "NamespaceMagics",
        "pushd": "OSMagics",
        "pwd": "OSMagics",
        "pycat": "OSMagics",
        "pylab": "PylabMagics",
        "qtconsole": "KernelMagics",
        "quickref": "BasicMagics",
        "recall": "HistoryMagics",
        "rehashx": "OSMagics",
        "reload_ext": "ExtensionMagics",
        "ren": "Other",
        "rep": "Other",
        "rerun": "HistoryMagics",
        "reset": "NamespaceMagics",
        "reset_selective": "NamespaceMagics",
        "rmdir": "Other",
        "run": "ExecutionMagics",
        "save": "CodeMagics",
        "sc": "OSMagics",
        "set_env": "OSMagics",
        "store": "StoreMagics",
        "sx": "OSMagics",
        "system": "OSMagics",
        "tb": "ExecutionMagics",
        "time": "ExecutionMagics",
        "timeit": "ExecutionMagics",
        "unalias": "OSMagics",
        "unload_ext": "ExtensionMagics",
        "who": "NamespaceMagics",
        "who_ls": "NamespaceMagics",
        "whos": "NamespaceMagics",
        "xdel": "NamespaceMagics",
        "xmode": "BasicMagics"
       }
      },
      "text/plain": [
       "Available line magics:\n",
       "%alias  %alias_magic  %autoawait  %autocall  %automagic  %autosave  %bookmark  %cd  %clear  %cls  %colors  %conda  %config  %connect_info  %copy  %ddir  %debug  %dhist  %dirs  %doctest_mode  %echo  %ed  %edit  %env  %gui  %hist  %history  %killbgscripts  %ldir  %less  %load  %load_ext  %loadpy  %logoff  %logon  %logstart  %logstate  %logstop  %ls  %lsmagic  %macro  %magic  %matplotlib  %mkdir  %more  %notebook  %page  %pastebin  %pdb  %pdef  %pdoc  %pfile  %pinfo  %pinfo2  %pip  %popd  %pprint  %precision  %prun  %psearch  %psource  %pushd  %pwd  %pycat  %pylab  %qtconsole  %quickref  %recall  %rehashx  %reload_ext  %ren  %rep  %rerun  %reset  %reset_selective  %rmdir  %run  %save  %sc  %set_env  %store  %sx  %system  %tb  %time  %timeit  %unalias  %unload_ext  %who  %who_ls  %whos  %xdel  %xmode\n",
       "\n",
       "Available cell magics:\n",
       "%%!  %%HTML  %%SVG  %%bash  %%capture  %%cmd  %%debug  %%file  %%html  %%javascript  %%js  %%latex  %%markdown  %%perl  %%prun  %%pypy  %%python  %%python2  %%python3  %%ruby  %%script  %%sh  %%svg  %%sx  %%system  %%time  %%timeit  %%writefile\n",
       "\n",
       "Automagic is ON, % prefix IS NOT needed for line magics."
      ]
     },
     "execution_count": 3,
     "metadata": {},
     "output_type": "execute_result"
    }
   ],
   "source": [
    "# 显示全部可用的magic命令\n",
    "%lsmagic"
   ]
  },
  {
   "cell_type": "code",
   "execution_count": 5,
   "id": "6ecd2c36",
   "metadata": {},
   "outputs": [],
   "source": [
    "# 使用timeit命令统计运行时间\n",
    "\n",
    "%%timeit\n",
    "\n",
    "import random\n",
    "num=0\n",
    "for i in range(100):\n",
    "    num+=random.randint(1,100)"
   ]
  },
  {
   "cell_type": "code",
   "execution_count": 6,
   "id": "52fe5cd0",
   "metadata": {},
   "outputs": [
    {
     "name": "stdout",
     "output_type": "stream",
     "text": [
      "env: tmp=123\n"
     ]
    }
   ],
   "source": [
    "# 使用env命令管理notebook的环境变量\n",
    "%env tmp=123\n"
   ]
  },
  {
   "cell_type": "code",
   "execution_count": null,
   "id": "83cf8503",
   "metadata": {},
   "outputs": [],
   "source": [
    "# 使用run命令运行python代码\n",
    "%run jupyter/python3/pythonscript/pypi.py\n",
    "\n",
    "# 使用!python也可以运行\n",
    "!python jupyter/python3/pythonscript/pypi.py"
   ]
  },
  {
   "cell_type": "code",
   "execution_count": 13,
   "id": "b63d78e2",
   "metadata": {},
   "outputs": [
    {
     "name": "stderr",
     "output_type": "stream",
     "text": [
      "UsageError: Line magic function `%%writefile` not found.\n"
     ]
    }
   ],
   "source": [
    "# 使用writefile命令导出cell的内容到文件\n",
    "%%writefile test.py \n",
    "\n",
    "print('hello world')"
   ]
  },
  {
   "cell_type": "code",
   "execution_count": 8,
   "id": "34ced099",
   "metadata": {},
   "outputs": [
    {
     "name": "stdout",
     "output_type": "stream",
     "text": [
      "Error: no such file, variable, URL, history range or macro\n"
     ]
    }
   ],
   "source": [
    "# 使用pycat命令把文件内容在cell中显示\n",
    "%pycat test.py  "
   ]
  },
  {
   "cell_type": "code",
   "execution_count": 15,
   "id": "ea69964e",
   "metadata": {},
   "outputs": [
    {
     "name": "stdout",
     "output_type": "stream",
     "text": [
      "\u001b[1;31mSignature:\u001b[0m \u001b[0mrandom\u001b[0m\u001b[1;33m.\u001b[0m\u001b[0mrandint\u001b[0m\u001b[1;33m(\u001b[0m\u001b[0ma\u001b[0m\u001b[1;33m,\u001b[0m \u001b[0mb\u001b[0m\u001b[1;33m)\u001b[0m\u001b[1;33m\u001b[0m\u001b[1;33m\u001b[0m\u001b[0m\n",
      "\u001b[1;31mDocstring:\u001b[0m\n",
      "Return random integer in range [a, b], including both end points.\n",
      "        \n",
      "\u001b[1;31mSource:\u001b[0m   \n",
      "    \u001b[1;32mdef\u001b[0m \u001b[0mrandint\u001b[0m\u001b[1;33m(\u001b[0m\u001b[0mself\u001b[0m\u001b[1;33m,\u001b[0m \u001b[0ma\u001b[0m\u001b[1;33m,\u001b[0m \u001b[0mb\u001b[0m\u001b[1;33m)\u001b[0m\u001b[1;33m:\u001b[0m\u001b[1;33m\n",
      "\u001b[0m        \u001b[1;34m\"\"\"Return random integer in range [a, b], including both end points.\n",
      "        \"\"\"\u001b[0m\u001b[1;33m\n",
      "\u001b[0m\u001b[1;33m\n",
      "\u001b[0m        \u001b[1;32mreturn\u001b[0m \u001b[0mself\u001b[0m\u001b[1;33m.\u001b[0m\u001b[0mrandrange\u001b[0m\u001b[1;33m(\u001b[0m\u001b[0ma\u001b[0m\u001b[1;33m,\u001b[0m \u001b[0mb\u001b[0m\u001b[1;33m+\u001b[0m\u001b[1;36m1\u001b[0m\u001b[1;33m)\u001b[0m\u001b[1;33m\u001b[0m\u001b[1;33m\u001b[0m\u001b[0m\n",
      "\u001b[1;31mFile:\u001b[0m      c:\\programdata\\miniconda3\\lib\\random.py\n",
      "\u001b[1;31mType:\u001b[0m      method\n"
     ]
    }
   ],
   "source": [
    "# 使用?查看某个对象的属性和方法,单个?显示简略信息,双个?显示详细信息\n",
    "import random\n",
    "??random.randint"
   ]
  },
  {
   "cell_type": "code",
   "execution_count": null,
   "id": "2e0ad1c9",
   "metadata": {},
   "outputs": [],
   "source": [
    "# 使jupyter自动显示所有的变量\n",
    "!pip install pydataset\n",
    "\n",
    "form IPython.core.interactiveshell import InteractiveShell  # 导入IPython的InteractiveShell类\n",
    "InteractiveShell.ast_node_interactivity = \"all\"  # 设置ast_node_interactivity为all，即所有的ast节点都会被显示\n",
    "\n",
    "from pydataset import data\n",
    "val=data('quakes')\n",
    "val.head()\n",
    "val.tail()"
   ]
  },
  {
   "cell_type": "code",
   "execution_count": 17,
   "id": "d8ea8fb3",
   "metadata": {},
   "outputs": [
    {
     "name": "stdout",
     "output_type": "stream",
     "text": [
      "you are in main\n",
      "> \u001b[1;32mc:\\users\\airobot\\appdata\\local\\temp\\ipykernel_8008\\1320284702.py\u001b[0m(6)\u001b[0;36mmain\u001b[1;34m()\u001b[0m\n",
      "\n",
      "hello world\n",
      "--Return--\n",
      "None\n",
      "> \u001b[1;32mc:\\users\\airobot\\appdata\\local\\temp\\ipykernel_8008\\1320284702.py\u001b[0m(6)\u001b[0;36mmain\u001b[1;34m()\u001b[0m\n",
      "\n",
      "--Return--\n",
      "None\n",
      "> \u001b[1;32mc:\\users\\airobot\\appdata\\local\\temp\\ipykernel_8008\\1320284702.py\u001b[0m(9)\u001b[0;36m<cell line: 8>\u001b[1;34m()\u001b[0m\n",
      "\n",
      "\u001b[1;31m    [... skipped 1 hidden frame]\u001b[0m\n",
      "\n",
      "> \u001b[1;32mc:\\programdata\\miniconda3\\lib\\site-packages\\ipython\\core\\interactiveshell.py\u001b[0m(3372)\u001b[0;36mrun_code\u001b[1;34m()\u001b[0m\n",
      "\u001b[1;32m   3371 \u001b[1;33m                \u001b[1;31m# Reset our crash handler in place\u001b[0m\u001b[1;33m\u001b[0m\u001b[1;33m\u001b[0m\u001b[0m\n",
      "\u001b[0m\u001b[1;32m-> 3372 \u001b[1;33m                \u001b[0msys\u001b[0m\u001b[1;33m.\u001b[0m\u001b[0mexcepthook\u001b[0m \u001b[1;33m=\u001b[0m \u001b[0mold_excepthook\u001b[0m\u001b[1;33m\u001b[0m\u001b[1;33m\u001b[0m\u001b[0m\n",
      "\u001b[0m\u001b[1;32m   3373 \u001b[1;33m        \u001b[1;32mexcept\u001b[0m \u001b[0mSystemExit\u001b[0m \u001b[1;32mas\u001b[0m \u001b[0me\u001b[0m\u001b[1;33m:\u001b[0m\u001b[1;33m\u001b[0m\u001b[1;33m\u001b[0m\u001b[0m\n",
      "\u001b[0m\n",
      "\u001b[1;31m    [... skipped 1 hidden frame]\u001b[0m\n",
      "\n",
      "> \u001b[1;32mc:\\programdata\\miniconda3\\lib\\site-packages\\ipython\\core\\interactiveshell.py\u001b[0m(3388)\u001b[0;36mrun_code\u001b[1;34m()\u001b[0m\n",
      "\u001b[1;32m   3387 \u001b[1;33m        \u001b[1;32melse\u001b[0m\u001b[1;33m:\u001b[0m\u001b[1;33m\u001b[0m\u001b[1;33m\u001b[0m\u001b[0m\n",
      "\u001b[0m\u001b[1;32m-> 3388 \u001b[1;33m            \u001b[0moutflag\u001b[0m \u001b[1;33m=\u001b[0m \u001b[1;32mFalse\u001b[0m\u001b[1;33m\u001b[0m\u001b[1;33m\u001b[0m\u001b[0m\n",
      "\u001b[0m\u001b[1;32m   3389 \u001b[1;33m        \u001b[1;32mreturn\u001b[0m \u001b[0moutflag\u001b[0m\u001b[1;33m\u001b[0m\u001b[1;33m\u001b[0m\u001b[0m\n",
      "\u001b[0m\n",
      "\u001b[1;31m    [... skipped 1 hidden frame]\u001b[0m\n",
      "\n",
      "> \u001b[1;32mc:\\programdata\\miniconda3\\lib\\site-packages\\ipython\\core\\interactiveshell.py\u001b[0m(3389)\u001b[0;36mrun_code\u001b[1;34m()\u001b[0m\n",
      "\u001b[1;32m   3388 \u001b[1;33m            \u001b[0moutflag\u001b[0m \u001b[1;33m=\u001b[0m \u001b[1;32mFalse\u001b[0m\u001b[1;33m\u001b[0m\u001b[1;33m\u001b[0m\u001b[0m\n",
      "\u001b[0m\u001b[1;32m-> 3389 \u001b[1;33m        \u001b[1;32mreturn\u001b[0m \u001b[0moutflag\u001b[0m\u001b[1;33m\u001b[0m\u001b[1;33m\u001b[0m\u001b[0m\n",
      "\u001b[0m\u001b[1;32m   3390 \u001b[1;33m\u001b[1;33m\u001b[0m\u001b[0m\n",
      "\u001b[0m\n",
      "\u001b[1;31m    [... skipped 1 hidden frame]\u001b[0m\n",
      "\n",
      "Internal StopIteration: False\n",
      "> \u001b[1;32mc:\\programdata\\miniconda3\\lib\\site-packages\\ipython\\core\\interactiveshell.py\u001b[0m(3309)\u001b[0;36mrun_ast_nodes\u001b[1;34m()\u001b[0m\n",
      "\u001b[1;32m   3308 \u001b[1;33m                    \u001b[0masy\u001b[0m \u001b[1;33m=\u001b[0m \u001b[0mcompare\u001b[0m\u001b[1;33m(\u001b[0m\u001b[0mcode\u001b[0m\u001b[1;33m)\u001b[0m\u001b[1;33m\u001b[0m\u001b[1;33m\u001b[0m\u001b[0m\n",
      "\u001b[0m\u001b[1;32m-> 3309 \u001b[1;33m                \u001b[1;32mif\u001b[0m \u001b[1;32mawait\u001b[0m \u001b[0mself\u001b[0m\u001b[1;33m.\u001b[0m\u001b[0mrun_code\u001b[0m\u001b[1;33m(\u001b[0m\u001b[0mcode\u001b[0m\u001b[1;33m,\u001b[0m \u001b[0mresult\u001b[0m\u001b[1;33m,\u001b[0m \u001b[0masync_\u001b[0m\u001b[1;33m=\u001b[0m\u001b[0masy\u001b[0m\u001b[1;33m)\u001b[0m\u001b[1;33m:\u001b[0m\u001b[1;33m\u001b[0m\u001b[1;33m\u001b[0m\u001b[0m\n",
      "\u001b[0m\u001b[1;32m   3310 \u001b[1;33m                    \u001b[1;32mreturn\u001b[0m \u001b[1;32mTrue\u001b[0m\u001b[1;33m\u001b[0m\u001b[1;33m\u001b[0m\u001b[0m\n",
      "\u001b[0m\n",
      "> \u001b[1;32mc:\\programdata\\miniconda3\\lib\\site-packages\\ipython\\core\\interactiveshell.py\u001b[0m(3296)\u001b[0;36mrun_ast_nodes\u001b[1;34m()\u001b[0m\n",
      "\u001b[1;32m   3295 \u001b[1;33m\u001b[1;33m\u001b[0m\u001b[0m\n",
      "\u001b[0m\u001b[1;32m-> 3296 \u001b[1;33m            \u001b[1;32mfor\u001b[0m \u001b[0mnode\u001b[0m\u001b[1;33m,\u001b[0m \u001b[0mmode\u001b[0m \u001b[1;32min\u001b[0m \u001b[0mto_run\u001b[0m\u001b[1;33m:\u001b[0m\u001b[1;33m\u001b[0m\u001b[1;33m\u001b[0m\u001b[0m\n",
      "\u001b[0m\u001b[1;32m   3297 \u001b[1;33m                \u001b[1;32mif\u001b[0m \u001b[0mmode\u001b[0m \u001b[1;33m==\u001b[0m \u001b[1;34m\"exec\"\u001b[0m\u001b[1;33m:\u001b[0m\u001b[1;33m\u001b[0m\u001b[1;33m\u001b[0m\u001b[0m\n",
      "\u001b[0m\n",
      "> \u001b[1;32mc:\\programdata\\miniconda3\\lib\\site-packages\\ipython\\core\\interactiveshell.py\u001b[0m(3313)\u001b[0;36mrun_ast_nodes\u001b[1;34m()\u001b[0m\n",
      "\u001b[1;32m   3312 \u001b[1;33m            \u001b[1;31m# Flush softspace\u001b[0m\u001b[1;33m\u001b[0m\u001b[1;33m\u001b[0m\u001b[0m\n",
      "\u001b[0m\u001b[1;32m-> 3313 \u001b[1;33m            \u001b[1;32mif\u001b[0m \u001b[0msoftspace\u001b[0m\u001b[1;33m(\u001b[0m\u001b[0msys\u001b[0m\u001b[1;33m.\u001b[0m\u001b[0mstdout\u001b[0m\u001b[1;33m,\u001b[0m \u001b[1;36m0\u001b[0m\u001b[1;33m)\u001b[0m\u001b[1;33m:\u001b[0m\u001b[1;33m\u001b[0m\u001b[1;33m\u001b[0m\u001b[0m\n",
      "\u001b[0m\u001b[1;32m   3314 \u001b[1;33m                \u001b[0mprint\u001b[0m\u001b[1;33m(\u001b[0m\u001b[1;33m)\u001b[0m\u001b[1;33m\u001b[0m\u001b[1;33m\u001b[0m\u001b[0m\n",
      "\u001b[0m\n",
      "> \u001b[1;32mc:\\programdata\\miniconda3\\lib\\site-packages\\ipython\\core\\interactiveshell.py\u001b[0m(3331)\u001b[0;36mrun_ast_nodes\u001b[1;34m()\u001b[0m\n",
      "\u001b[1;32m   3330 \u001b[1;33m\u001b[1;33m\u001b[0m\u001b[0m\n",
      "\u001b[0m\u001b[1;32m-> 3331 \u001b[1;33m        \u001b[1;32mreturn\u001b[0m \u001b[1;32mFalse\u001b[0m\u001b[1;33m\u001b[0m\u001b[1;33m\u001b[0m\u001b[0m\n",
      "\u001b[0m\u001b[1;32m   3332 \u001b[1;33m\u001b[1;33m\u001b[0m\u001b[0m\n",
      "\u001b[0m\n",
      "Internal StopIteration: False\n",
      "> \u001b[1;32mc:\\programdata\\miniconda3\\lib\\site-packages\\ipython\\core\\interactiveshell.py\u001b[0m(3106)\u001b[0;36mrun_cell_async\u001b[1;34m()\u001b[0m\n",
      "\u001b[1;32m   3105 \u001b[1;33m\u001b[1;33m\u001b[0m\u001b[0m\n",
      "\u001b[0m\u001b[1;32m-> 3106 \u001b[1;33m                has_raised = await self.run_ast_nodes(code_ast.body, cell_name,\n",
      "\u001b[0m\u001b[1;32m   3107 \u001b[1;33m                       interactivity=interactivity, compiler=compiler, result=result)\n",
      "\u001b[0m\n"
     ]
    },
    {
     "ename": "BdbQuit",
     "evalue": "",
     "output_type": "error",
     "traceback": [
      "\u001b[1;31m---------------------------------------------------------------------------\u001b[0m",
      "\u001b[1;31mBdbQuit\u001b[0m                                   Traceback (most recent call last)",
      "File \u001b[1;32mC:\\ProgramData\\Miniconda3\\lib\\site-packages\\IPython\\core\\async_helpers.py:129\u001b[0m, in \u001b[0;36m_pseudo_sync_runner\u001b[1;34m(coro)\u001b[0m\n\u001b[0;32m    <a href='file:///c%3A/ProgramData/Miniconda3/lib/site-packages/IPython/core/async_helpers.py?line=120'>121</a>\u001b[0m \u001b[39m\"\"\"\u001b[39;00m\n\u001b[0;32m    <a href='file:///c%3A/ProgramData/Miniconda3/lib/site-packages/IPython/core/async_helpers.py?line=121'>122</a>\u001b[0m \u001b[39mA runner that does not really allow async execution, and just advance the coroutine.\u001b[39;00m\n\u001b[0;32m    <a href='file:///c%3A/ProgramData/Miniconda3/lib/site-packages/IPython/core/async_helpers.py?line=122'>123</a>\u001b[0m \n\u001b[1;32m   (...)\u001b[0m\n\u001b[0;32m    <a href='file:///c%3A/ProgramData/Miniconda3/lib/site-packages/IPython/core/async_helpers.py?line=125'>126</a>\u001b[0m \u001b[39mCredit to Nathaniel Smith\u001b[39;00m\n\u001b[0;32m    <a href='file:///c%3A/ProgramData/Miniconda3/lib/site-packages/IPython/core/async_helpers.py?line=126'>127</a>\u001b[0m \u001b[39m\"\"\"\u001b[39;00m\n\u001b[0;32m    <a href='file:///c%3A/ProgramData/Miniconda3/lib/site-packages/IPython/core/async_helpers.py?line=127'>128</a>\u001b[0m \u001b[39mtry\u001b[39;00m:\n\u001b[1;32m--> <a href='file:///c%3A/ProgramData/Miniconda3/lib/site-packages/IPython/core/async_helpers.py?line=128'>129</a>\u001b[0m     coro\u001b[39m.\u001b[39;49msend(\u001b[39mNone\u001b[39;49;00m)\n\u001b[0;32m    <a href='file:///c%3A/ProgramData/Miniconda3/lib/site-packages/IPython/core/async_helpers.py?line=129'>130</a>\u001b[0m \u001b[39mexcept\u001b[39;00m \u001b[39mStopIteration\u001b[39;00m \u001b[39mas\u001b[39;00m exc:\n\u001b[0;32m    <a href='file:///c%3A/ProgramData/Miniconda3/lib/site-packages/IPython/core/async_helpers.py?line=130'>131</a>\u001b[0m     \u001b[39mreturn\u001b[39;00m exc\u001b[39m.\u001b[39mvalue\n",
      "File \u001b[1;32mC:\\ProgramData\\Miniconda3\\lib\\site-packages\\IPython\\core\\interactiveshell.py:3106\u001b[0m, in \u001b[0;36mInteractiveShell.run_cell_async\u001b[1;34m(self, raw_cell, store_history, silent, shell_futures, transformed_cell, preprocessing_exc_tuple)\u001b[0m\n\u001b[0;32m   <a href='file:///c%3A/ProgramData/Miniconda3/lib/site-packages/IPython/core/interactiveshell.py?line=3102'>3103</a>\u001b[0m \u001b[39m# Execute the user code\u001b[39;00m\n\u001b[0;32m   <a href='file:///c%3A/ProgramData/Miniconda3/lib/site-packages/IPython/core/interactiveshell.py?line=3103'>3104</a>\u001b[0m interactivity \u001b[39m=\u001b[39m \u001b[39m\"\u001b[39m\u001b[39mnone\u001b[39m\u001b[39m\"\u001b[39m \u001b[39mif\u001b[39;00m silent \u001b[39melse\u001b[39;00m \u001b[39mself\u001b[39m\u001b[39m.\u001b[39mast_node_interactivity\n\u001b[1;32m-> <a href='file:///c%3A/ProgramData/Miniconda3/lib/site-packages/IPython/core/interactiveshell.py?line=3105'>3106</a>\u001b[0m has_raised \u001b[39m=\u001b[39m \u001b[39mawait\u001b[39;00m \u001b[39mself\u001b[39m\u001b[39m.\u001b[39mrun_ast_nodes(code_ast\u001b[39m.\u001b[39mbody, cell_name,\n\u001b[0;32m   <a href='file:///c%3A/ProgramData/Miniconda3/lib/site-packages/IPython/core/interactiveshell.py?line=3106'>3107</a>\u001b[0m        interactivity\u001b[39m=\u001b[39minteractivity, compiler\u001b[39m=\u001b[39mcompiler, result\u001b[39m=\u001b[39mresult)\n\u001b[0;32m   <a href='file:///c%3A/ProgramData/Miniconda3/lib/site-packages/IPython/core/interactiveshell.py?line=3108'>3109</a>\u001b[0m \u001b[39mself\u001b[39m\u001b[39m.\u001b[39mlast_execution_succeeded \u001b[39m=\u001b[39m \u001b[39mnot\u001b[39;00m has_raised\n\u001b[0;32m   <a href='file:///c%3A/ProgramData/Miniconda3/lib/site-packages/IPython/core/interactiveshell.py?line=3109'>3110</a>\u001b[0m \u001b[39mself\u001b[39m\u001b[39m.\u001b[39mlast_execution_result \u001b[39m=\u001b[39m result\n",
      "File \u001b[1;32mC:\\ProgramData\\Miniconda3\\lib\\site-packages\\IPython\\core\\interactiveshell.py:3106\u001b[0m, in \u001b[0;36mInteractiveShell.run_cell_async\u001b[1;34m(self, raw_cell, store_history, silent, shell_futures, transformed_cell, preprocessing_exc_tuple)\u001b[0m\n\u001b[0;32m   <a href='file:///c%3A/ProgramData/Miniconda3/lib/site-packages/IPython/core/interactiveshell.py?line=3102'>3103</a>\u001b[0m \u001b[39m# Execute the user code\u001b[39;00m\n\u001b[0;32m   <a href='file:///c%3A/ProgramData/Miniconda3/lib/site-packages/IPython/core/interactiveshell.py?line=3103'>3104</a>\u001b[0m interactivity \u001b[39m=\u001b[39m \u001b[39m\"\u001b[39m\u001b[39mnone\u001b[39m\u001b[39m\"\u001b[39m \u001b[39mif\u001b[39;00m silent \u001b[39melse\u001b[39;00m \u001b[39mself\u001b[39m\u001b[39m.\u001b[39mast_node_interactivity\n\u001b[1;32m-> <a href='file:///c%3A/ProgramData/Miniconda3/lib/site-packages/IPython/core/interactiveshell.py?line=3105'>3106</a>\u001b[0m has_raised \u001b[39m=\u001b[39m \u001b[39mawait\u001b[39;00m \u001b[39mself\u001b[39m\u001b[39m.\u001b[39mrun_ast_nodes(code_ast\u001b[39m.\u001b[39mbody, cell_name,\n\u001b[0;32m   <a href='file:///c%3A/ProgramData/Miniconda3/lib/site-packages/IPython/core/interactiveshell.py?line=3106'>3107</a>\u001b[0m        interactivity\u001b[39m=\u001b[39minteractivity, compiler\u001b[39m=\u001b[39mcompiler, result\u001b[39m=\u001b[39mresult)\n\u001b[0;32m   <a href='file:///c%3A/ProgramData/Miniconda3/lib/site-packages/IPython/core/interactiveshell.py?line=3108'>3109</a>\u001b[0m \u001b[39mself\u001b[39m\u001b[39m.\u001b[39mlast_execution_succeeded \u001b[39m=\u001b[39m \u001b[39mnot\u001b[39;00m has_raised\n\u001b[0;32m   <a href='file:///c%3A/ProgramData/Miniconda3/lib/site-packages/IPython/core/interactiveshell.py?line=3109'>3110</a>\u001b[0m \u001b[39mself\u001b[39m\u001b[39m.\u001b[39mlast_execution_result \u001b[39m=\u001b[39m result\n",
      "File \u001b[1;32mC:\\ProgramData\\Miniconda3\\lib\\bdb.py:94\u001b[0m, in \u001b[0;36mBdb.trace_dispatch\u001b[1;34m(self, frame, event, arg)\u001b[0m\n\u001b[0;32m     <a href='file:///c%3A/ProgramData/Miniconda3/lib/bdb.py?line=91'>92</a>\u001b[0m     \u001b[39mreturn\u001b[39;00m \u001b[39mself\u001b[39m\u001b[39m.\u001b[39mdispatch_return(frame, arg)\n\u001b[0;32m     <a href='file:///c%3A/ProgramData/Miniconda3/lib/bdb.py?line=92'>93</a>\u001b[0m \u001b[39mif\u001b[39;00m event \u001b[39m==\u001b[39m \u001b[39m'\u001b[39m\u001b[39mexception\u001b[39m\u001b[39m'\u001b[39m:\n\u001b[1;32m---> <a href='file:///c%3A/ProgramData/Miniconda3/lib/bdb.py?line=93'>94</a>\u001b[0m     \u001b[39mreturn\u001b[39;00m \u001b[39mself\u001b[39;49m\u001b[39m.\u001b[39;49mdispatch_exception(frame, arg)\n\u001b[0;32m     <a href='file:///c%3A/ProgramData/Miniconda3/lib/bdb.py?line=94'>95</a>\u001b[0m \u001b[39mif\u001b[39;00m event \u001b[39m==\u001b[39m \u001b[39m'\u001b[39m\u001b[39mc_call\u001b[39m\u001b[39m'\u001b[39m:\n\u001b[0;32m     <a href='file:///c%3A/ProgramData/Miniconda3/lib/bdb.py?line=95'>96</a>\u001b[0m     \u001b[39mreturn\u001b[39;00m \u001b[39mself\u001b[39m\u001b[39m.\u001b[39mtrace_dispatch\n",
      "File \u001b[1;32mC:\\ProgramData\\Miniconda3\\lib\\bdb.py:183\u001b[0m, in \u001b[0;36mBdb.dispatch_exception\u001b[1;34m(self, frame, arg)\u001b[0m\n\u001b[0;32m    <a href='file:///c%3A/ProgramData/Miniconda3/lib/bdb.py?line=178'>179</a>\u001b[0m \u001b[39melif\u001b[39;00m (\u001b[39mself\u001b[39m\u001b[39m.\u001b[39mstopframe \u001b[39mand\u001b[39;00m frame \u001b[39mis\u001b[39;00m \u001b[39mnot\u001b[39;00m \u001b[39mself\u001b[39m\u001b[39m.\u001b[39mstopframe\n\u001b[0;32m    <a href='file:///c%3A/ProgramData/Miniconda3/lib/bdb.py?line=179'>180</a>\u001b[0m         \u001b[39mand\u001b[39;00m \u001b[39mself\u001b[39m\u001b[39m.\u001b[39mstopframe\u001b[39m.\u001b[39mf_code\u001b[39m.\u001b[39mco_flags \u001b[39m&\u001b[39m GENERATOR_AND_COROUTINE_FLAGS\n\u001b[0;32m    <a href='file:///c%3A/ProgramData/Miniconda3/lib/bdb.py?line=180'>181</a>\u001b[0m         \u001b[39mand\u001b[39;00m arg[\u001b[39m0\u001b[39m] \u001b[39min\u001b[39;00m (\u001b[39mStopIteration\u001b[39;00m, \u001b[39mGeneratorExit\u001b[39;00m)):\n\u001b[0;32m    <a href='file:///c%3A/ProgramData/Miniconda3/lib/bdb.py?line=181'>182</a>\u001b[0m     \u001b[39mself\u001b[39m\u001b[39m.\u001b[39muser_exception(frame, arg)\n\u001b[1;32m--> <a href='file:///c%3A/ProgramData/Miniconda3/lib/bdb.py?line=182'>183</a>\u001b[0m     \u001b[39mif\u001b[39;00m \u001b[39mself\u001b[39m\u001b[39m.\u001b[39mquitting: \u001b[39mraise\u001b[39;00m BdbQuit\n\u001b[0;32m    <a href='file:///c%3A/ProgramData/Miniconda3/lib/bdb.py?line=184'>185</a>\u001b[0m \u001b[39mreturn\u001b[39;00m \u001b[39mself\u001b[39m\u001b[39m.\u001b[39mtrace_dispatch\n",
      "\u001b[1;31mBdbQuit\u001b[0m: "
     ]
    }
   ],
   "source": [
    "# 使用ipdb调试python代码(需要使用pip install ipdb安装)\n",
    "import ipdb\n",
    "\n",
    "def main():\n",
    "    num1=100\n",
    "    num2=200\n",
    "    print('you are in main')\n",
    "    ipdb.set_trace() # 添加一个断点\n",
    "    print('hello world')\n",
    "    \n",
    "print('you are out of main')\n",
    "main()\n",
    "\n",
    "# 程序运行后,会出现交互框,输入命令后按回车进行调试,命令都是一个字母\n",
    "# Enter:重复上次命令\n",
    "# n:转到下一行(不会进入到函数中)\n",
    "# c:跳转到最后或下一个断点\n",
    "# p:打印变量,例如:p num1 num2\n",
    "# b:动态添加断点,例如:b num1\n",
    "# l:查找当前位于哪里\n",
    "# s:进入子程序,进入被调用的函数体\n",
    "# r:运行直到子程序结束\n",
    "# !:python命令\n",
    "# h:帮助\n",
    "# a(main):打印当前函数的参数\n",
    "# j(line):让程序跳转到指定的行\n",
    "# 动态添加变量,例如:num1='value'\n",
    "# q:退出调试"
   ]
  },
  {
   "cell_type": "markdown",
   "id": "8d58fb73-4297-4483-816e-a18c0b276b69",
   "metadata": {},
   "source": [
    "## jupyter快捷键用法\n",
    "---\n",
    "#### 命令行模式\n",
    "1. 选择前一个cell  \n",
    "    <kbd>↑</kbd>或<kbd>k</kbd>\n",
    "\n",
    "2. 选择后一个cell  \n",
    "    <kbd>↓</kbd>或<kbd>j</kbd>\n",
    "\n",
    "3. 运行当前cell\n",
    "    <kbd>Ctrl</kbd>+<kbd>Enter</kbd>\n",
    "\n",
    "4. 执行当前cell并跳转到下一个cell    \n",
    "    <kbd>Shift</kbd>+<kbd>Enter</kbd>\n",
    "\n",
    "5. 删除当前cell   \n",
    "    <kbd>D</kbd>+<kbd>D</kbd>\n",
    "    \n",
    "6. 回复删除的cell  \n",
    "    <kbd>Z</kbd>\n",
    "\n",
    "7. 在当前cell上方插入cell  \n",
    "    <kbd>a</kbd>\n",
    "\n",
    "8. 在当前cell下方插入cell  \n",
    "    <kbd>b</kbd>\n",
    "\n",
    "9. 复制当前cell  \n",
    "    <kbd>C</kbd>\n",
    "\n",
    "10. 粘贴到当前cell的下方  \n",
    "    <kbd>V</kbd>\n",
    "\n",
    "11. 切换当前cell的类型为code  \n",
    "    <kbd>Y</kbd>\n",
    "\n",
    "12. 切换当前cell的类型为markdown  \n",
    "    <kbd>M</kbd>\n",
    "\n",
    "13. 进入编辑模式  \n",
    "    <kbd>Enter</kbd>\n",
    "\n",
    "14. 显示/隐藏cell输出  \n",
    "    <kbd>O</kbd>\n",
    "\n",
    "#### 编辑模式\n",
    "1. 退出编辑模式    \n",
    "    <kbd>Esc</kbd>\n",
    "\n",
    "2. 撤销上一步操作    \n",
    "    <kbd>Ctrl</kbd>+<kbd>Z</kbd>\n",
    "\n",
    "3. 重做上一步操作    \n",
    "    <kbd>Ctrl</kbd>+<kbd>Y</kbd>\n",
    "\n",
    "4. 添加缩进  \n",
    "    <kbd>Tab</kbd>\n",
    "\n",
    "5. 删除缩进  \n",
    "    <kbd>Shift</kbd>+<kbd>Tab</kbd>\n",
    "\n",
    "6. 取消/添加注释整行  \n",
    "    <kbd>Ctrl</kbd>+<kbd>/</kbd>\n",
    "\n",
    "7. 删除整行  \n",
    "    <kbd>Ctrl</kbd>+<kbd>D</kbd>\n",
    "\n",
    "8. 移动到行首  \n",
    "    <kbd>Home</kbd>或<kbd>Ctrl</kbd>+<kbd>←</kbd>\n",
    "\n",
    "9. 移动到行尾  \n",
    "    <kbd>End</kbd>或<kbd>Ctrl</kbd>+<kbd>→</kbd>\n",
    "\n",
    "10. 执行当前cell,会退出编辑模式    \n",
    "    <kbd>Ctrl</kbd>+<kbd>Enter</kbd>\n",
    "\n",
    "11. 执行当前cell并跳转到下一个cell      \n",
    "    <kbd>Shift</kbd>+<kbd>Enter</kbd>\n",
    "\n"
   ]
  }
 ],
 "metadata": {
  "interpreter": {
   "hash": "ecf5722fdaf1897a315d257d89d94520bfcaa453217d5becf09b39e73618b0de"
  },
  "kernelspec": {
   "display_name": "Bash",
   "language": "python",
   "name": "python3"
  },
  "language_info": {
   "codemirror_mode": {
    "name": "ipython",
    "version": 3
   },
   "file_extension": ".py",
   "mimetype": "text/x-python",
   "name": "python",
   "nbconvert_exporter": "python",
   "pygments_lexer": "ipython3",
   "version": "3.9.7"
  }
 },
 "nbformat": 4,
 "nbformat_minor": 5
}
