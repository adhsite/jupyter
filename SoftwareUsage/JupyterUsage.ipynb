{
 "cells": [
  {
   "cell_type": "code",
   "execution_count": null,
   "id": "be8cc818",
   "metadata": {
    "vscode": {
     "languageId": "shellscript"
    }
   },
   "outputs": [],
   "source": [
    "# jupyter的各种使用方法\n",
    "# jupyterlab是jupyter notebook的升级版，更加强大"
   ]
  },
  {
   "cell_type": "code",
   "execution_count": null,
   "id": "fe9c69ee-f28b-48b9-9cf6-48bb02fc9e79",
   "metadata": {},
   "outputs": [],
   "source": [
    "# 安装jupyterlab\n",
    "pip3 install jupyterlab  "
   ]
  },
  {
   "cell_type": "code",
   "execution_count": null,
   "id": "1819e0bb",
   "metadata": {
    "vscode": {
     "languageId": "shellscript"
    }
   },
   "outputs": [],
   "source": [
    "# 升级jupyter\n",
    "pip install -U jupyter"
   ]
  },
  {
   "cell_type": "code",
   "execution_count": null,
   "id": "c115e2d8-b40d-4506-bdc3-0a6a893909cd",
   "metadata": {},
   "outputs": [],
   "source": [
    "# 安装jupyterlab中文语言包\n",
    "pip3 install jupyterlab-language-pack-zh-CN"
   ]
  },
  {
   "cell_type": "code",
   "execution_count": null,
   "id": "f9bb2de2-c46e-4456-87f3-c6d53c1c4d62",
   "metadata": {},
   "outputs": [],
   "source": [
    "# jupyter内核列表网址\n",
    "'https://github.com/jupyter/jupyter/wiki/Jupyter-kernels'\n",
    "\n",
    "# 安装bash内核，用于支持bash命令行\n",
    "pip3 install bash_kernel\n",
    "python3 -m bash_kernel.install"
   ]
  },
  {
   "cell_type": "code",
   "execution_count": null,
   "id": "9ac3efe4-257b-4fcc-a6b1-c7bd18aa9405",
   "metadata": {},
   "outputs": [],
   "source": [
    "# 启动jupyterlab\n",
    "jupyter-lab \\\n",
    "\n",
    "# jupyter常用的启动参数\n",
    "--ip=192.168.0.1 \\ #指定jupyter运行的ip，在云服务器运行需指定内网ip，否则无法打开jupyter\n",
    "--port 9999 \\ #指定jupyter的端口，默认为8888，可以同时运行多个jupyter使用不同的端口即可\n",
    "--allow-root \\ #允许root用户运行jupyter服务器\n",
    "--no-browser \\ #不在浏览器打开jupyter\n",
    "--autoreload \\ #自动加载网络应用和导入的python包\n",
    "--generate-config \\ #生成默认配置文件\n",
    "--notebooke-dir=/var \\ #指定笔记本和内核启动目录，默认为当前目录\n"
   ]
  },
  {
   "cell_type": "code",
   "execution_count": null,
   "id": "a557d36b-1c00-4492-9f2e-55f455f423aa",
   "metadata": {},
   "outputs": [],
   "source": [
    "# 显示所有运行中的jupyter和对应token及目录\n",
    "jupyter server list"
   ]
  },
  {
   "cell_type": "markdown",
   "id": "8d58fb73-4297-4483-816e-a18c0b276b69",
   "metadata": {},
   "source": [
    "## jupyter快捷键用法\n",
    "---\n",
    "#### 命令行模式\n",
    "1. 选择前一个cell  \n",
    "    <kbd>↑</kbd>或<kbd>k</kbd>\n",
    "\n",
    "2. 选择后一个cell  \n",
    "    <kbd>↓</kbd>或<kbd>j</kbd>\n",
    "\n",
    "3. 运行当前cell\n",
    "    <kbd>Ctrl</kbd>+<kbd>Enter</kbd>\n",
    "\n",
    "4. 执行当前cell并跳转到下一个cell    \n",
    "    <kbd>Shift</kbd>+<kbd>Enter</kbd>\n",
    "\n",
    "5. 删除当前cell   \n",
    "    <kbd>D</kbd>+<kbd>D</kbd>\n",
    "    \n",
    "6. 回复删除的cell  \n",
    "    <kbd>Z</kbd>\n",
    "\n",
    "7. 在当前cell上方插入cell  \n",
    "    <kbd>a</kbd>\n",
    "\n",
    "8. 在当前cell下方插入cell  \n",
    "    <kbd>b</kbd>\n",
    "\n",
    "9. 复制当前cell  \n",
    "    <kbd>C</kbd>\n",
    "\n",
    "10. 粘贴到当前cell的下方  \n",
    "    <kbd>V</kbd>\n",
    "\n",
    "11. 切换当前cell的类型为code  \n",
    "    <kbd>Y</kbd>\n",
    "\n",
    "12. 切换当前cell的类型为markdown  \n",
    "    <kbd>M</kbd>\n",
    "\n",
    "13. 进入编辑模式  \n",
    "    <kbd>Enter</kbd>\n",
    "\n",
    "14. 显示/隐藏cell输出  \n",
    "    <kbd>O</kbd>\n",
    "\n",
    "#### 编辑模式\n",
    "1. 退出编辑模式    \n",
    "    <kbd>Esc</kbd>\n",
    "\n",
    "2. 撤销上一步操作    \n",
    "    <kbd>Ctrl</kbd>+<kbd>Z</kbd>\n",
    "\n",
    "3. 重做上一步操作    \n",
    "    <kbd>Ctrl</kbd>+<kbd>Y</kbd>\n",
    "\n",
    "4. 添加缩进  \n",
    "    <kbd>Tab</kbd>\n",
    "\n",
    "5. 删除缩进  \n",
    "    <kbd>Shift</kbd>+<kbd>Tab</kbd>\n",
    "\n",
    "6. 取消/添加注释整行  \n",
    "    <kbd>Ctrl</kbd>+<kbd>/</kbd>\n",
    "\n",
    "7. 删除整行  \n",
    "    <kbd>Ctrl</kbd>+<kbd>D</kbd>\n",
    "\n",
    "8. 移动到行首  \n",
    "    <kbd>Home</kbd>或<kbd>Ctrl</kbd>+<kbd>←</kbd>\n",
    "\n",
    "9. 移动到行尾  \n",
    "    <kbd>End</kbd>或<kbd>Ctrl</kbd>+<kbd>→</kbd>\n",
    "\n",
    "10. 执行当前cell,会退出编辑模式    \n",
    "    <kbd>Ctrl</kbd>+<kbd>Enter</kbd>\n",
    "\n",
    "11. 执行当前cell并跳转到下一个cell      \n",
    "    <kbd>Shift</kbd>+<kbd>Enter</kbd>\n",
    "\n"
   ]
  }
 ],
 "metadata": {
  "kernelspec": {
   "display_name": "Bash",
   "language": "bash",
   "name": "bash"
  },
  "language_info": {
   "codemirror_mode": "shell",
   "file_extension": ".sh",
   "mimetype": "text/x-sh",
   "name": "bash"
  }
 },
 "nbformat": 4,
 "nbformat_minor": 5
}
