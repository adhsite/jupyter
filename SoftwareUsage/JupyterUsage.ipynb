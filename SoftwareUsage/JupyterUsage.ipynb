{
 "cells": [
  {
   "cell_type": "code",
   "execution_count": null,
   "id": "fe9c69ee-f28b-48b9-9cf6-48bb02fc9e79",
   "metadata": {},
   "outputs": [],
   "source": [
    "#安装jupyterlab\n",
    "pip3 install jupyterlab  "
   ]
  },
  {
   "cell_type": "code",
   "execution_count": null,
   "id": "c115e2d8-b40d-4506-bdc3-0a6a893909cd",
   "metadata": {},
   "outputs": [],
   "source": [
    "#安装jupyterlab中文语言包\n",
    "pip3 install jupyterlab-language-pack-zh-CN"
   ]
  },
  {
   "cell_type": "code",
   "execution_count": null,
   "id": "f9bb2de2-c46e-4456-87f3-c6d53c1c4d62",
   "metadata": {},
   "outputs": [],
   "source": [
    "#jupyter内核列表网址\n",
    "'https://github.com/jupyter/jupyter/wiki/Jupyter-kernels'\n",
    "\n",
    "#安装jupyter的bash内核\n",
    "pip3 install bash_kernel\n",
    "python3 -m bash_kernel.install"
   ]
  },
  {
   "cell_type": "code",
   "execution_count": null,
   "id": "9ac3efe4-257b-4fcc-a6b1-c7bd18aa9405",
   "metadata": {},
   "outputs": [],
   "source": [
    "#启动jupyterlab\n",
    "jupyter-lab /\n",
    "\n",
    "#jupyter常用的启动参数\n",
    "--ip=192.168.0.1 \\ #指定jupyter运行的ip，在云服务器运行需指定内网ip，否则无法打开jupyter\n",
    "--port 9999 \\ #指定jupyter的端口，默认为8888，可以同时运行多个jupyter使用不同的端口即可\n",
    "--allow-root \\ #允许root用户运行jupyter服务器\n",
    "--no-browser \\ #不在浏览器打开jupyter\n",
    "--autoreload \\ #自动加载网络应用和导入的python包\n",
    "--generate-config \\ #生成默认配置文件\n",
    "--notebooke-dir=/var \\ #指定笔记本和内核启动目录，默认为当前目录\n"
   ]
  },
  {
   "cell_type": "code",
   "execution_count": null,
   "id": "a557d36b-1c00-4492-9f2e-55f455f423aa",
   "metadata": {},
   "outputs": [],
   "source": [
    "#显示所有运行中的jupyter和对应token及目录\n",
    "jupyter server list"
   ]
  },
  {
   "cell_type": "markdown",
   "id": "8d58fb73-4297-4483-816e-a18c0b276b69",
   "metadata": {},
   "source": [
    "### jupyter快捷键用法\n",
    "* 命令行模式\n",
    "<kbd>↑</kdb>或\n"
   ]
  },
  {
   "cell_type": "code",
   "execution_count": null,
   "id": "1c05e156",
   "metadata": {
    "vscode": {
     "languageId": "python"
    }
   },
   "outputs": [],
   "source": []
  },
  {
   "cell_type": "code",
   "execution_count": null,
   "id": "e0daa23e-6297-47b6-b110-f82f2483004a",
   "metadata": {
    "tags": []
   },
   "outputs": [],
   "source": []
  }
 ],
 "metadata": {
  "kernelspec": {
   "display_name": "Bash",
   "language": "bash",
   "name": "bash"
  },
  "language_info": {
   "codemirror_mode": "shell",
   "file_extension": ".sh",
   "mimetype": "text/x-sh",
   "name": "bash"
  }
 },
 "nbformat": 4,
 "nbformat_minor": 5
}
