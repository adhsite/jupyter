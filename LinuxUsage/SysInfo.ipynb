{
 "cells": [
  {
   "cell_type": "code",
   "execution_count": 2,
   "id": "422d1b41-12a1-4a69-8138-a1a6ca88448a",
   "metadata": {},
   "outputs": [
    {
     "name": "stdout",
     "output_type": "stream",
     "text": [
      "NAME=\"CentOS Stream\"\n",
      "VERSION=\"8\"\n",
      "ID=\"centos\"\n",
      "ID_LIKE=\"rhel fedora\"\n",
      "VERSION_ID=\"8\"\n",
      "PLATFORM_ID=\"platform:el8\"\n",
      "PRETTY_NAME=\"CentOS Stream 8\"\n",
      "ANSI_COLOR=\"0;31\"\n",
      "CPE_NAME=\"cpe:/o:centos:centos:8\"\n",
      "HOME_URL=\"https://centos.org/\"\n",
      "BUG_REPORT_URL=\"https://bugzilla.redhat.com/\"\n",
      "REDHAT_SUPPORT_PRODUCT=\"Red Hat Enterprise Linux 8\"\n",
      "REDHAT_SUPPORT_PRODUCT_VERSION=\"CentOS Stream\"\n"
     ]
    }
   ],
   "source": [
    "cat /etc/os-release"
   ]
  },
  {
   "cell_type": "code",
   "execution_count": 3,
   "id": "1f76f984-f863-4d5c-b3bb-179004728a70",
   "metadata": {},
   "outputs": [
    {
     "name": "stdout",
     "output_type": "stream",
     "text": [
      "Description:\tCentOS Stream release 8\n"
     ]
    }
   ],
   "source": [
    "lsb_release -d"
   ]
  },
  {
   "cell_type": "code",
   "execution_count": 4,
   "id": "30b82f92-4826-40a9-849b-289e6e4c9bc9",
   "metadata": {},
   "outputs": [
    {
     "name": "stdout",
     "output_type": "stream",
     "text": [
      "   Static hostname: cloud1\n",
      "   Pretty hostname: centos8\n",
      "         Icon name: computer-vm\n",
      "           Chassis: vm\n",
      "        Machine ID: 8daa9318d5564417b557c0bf5b06c3b8\n",
      "           Boot ID: 31ced1efef924445a9903c2f277e907a\n",
      "    Virtualization: kvm\n",
      "  Operating System: \u001b]8;;https://centos.org/\u0007CentOS Stream 8\u001b]8;;\u0007\n",
      "       CPE OS Name: cpe:/o:centos:centos:8\n",
      "            Kernel: Linux 4.18.0-358.el8.x86_64\n",
      "      Architecture: x86-64\n"
     ]
    }
   ],
   "source": [
    "hostnamectl"
   ]
  },
  {
   "cell_type": "code",
   "execution_count": null,
   "id": "aaf6784c-a176-4b60-99f0-d91b04810c6f",
   "metadata": {},
   "outputs": [],
   "source": []
  }
 ],
 "metadata": {
  "kernelspec": {
   "display_name": "Bash",
   "language": "bash",
   "name": "bash"
  },
  "language_info": {
   "codemirror_mode": "shell",
   "file_extension": ".sh",
   "mimetype": "text/x-sh",
   "name": "bash"
  }
 },
 "nbformat": 4,
 "nbformat_minor": 5
}
